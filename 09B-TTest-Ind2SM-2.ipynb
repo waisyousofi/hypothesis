{
 "cells": [
  {
   "cell_type": "code",
   "execution_count": 1,
   "metadata": {},
   "outputs": [
    {
     "data": {
      "text/plain": [
       "'\\n@filename: ttest\\n@dataset: ttest\\n@author: waisullah yousofi\\n'"
      ]
     },
     "execution_count": 1,
     "metadata": {},
     "output_type": "execute_result"
    }
   ],
   "source": [
    "\"\"\"\n",
    "@filename: ttest\n",
    "@dataset: ttest\n",
    "@author: waisullah yousofi\n",
    "\"\"\""
   ]
  },
  {
   "cell_type": "markdown",
   "metadata": {},
   "source": [
    "hides all warnings"
   ]
  },
  {
   "cell_type": "code",
   "execution_count": 2,
   "metadata": {},
   "outputs": [],
   "source": [
    "import warnings\n",
    "warnings.filterwarnings('ignore')\n",
    "# pandas \n",
    "import pandas as pd\n",
    "# numpy\n",
    "import numpy as np\n",
    "# stats\n",
    "# https://docs.scipy.org/doc/scipy/reference/generated/scipy.stats.ttest_ind.html\n",
    "from scipy.stats import ttest_ind"
   ]
  },
  {
   "cell_type": "markdown",
   "metadata": {},
   "source": [
    "############################################################<br>\n",
    "Read Data <br>\n",
    "############################################################"
   ]
  },
  {
   "cell_type": "markdown",
   "metadata": {},
   "source": [
    "assign spreadsheet filename: file"
   ]
  },
  {
   "cell_type": "code",
   "execution_count": 3,
   "metadata": {},
   "outputs": [],
   "source": [
    "file = '..\\dataset/ttest-data.xlsx'"
   ]
  },
  {
   "cell_type": "markdown",
   "metadata": {},
   "source": [
    "load spreadsheet xls"
   ]
  },
  {
   "cell_type": "code",
   "execution_count": 4,
   "metadata": {},
   "outputs": [],
   "source": [
    "xls = pd.ExcelFile(file)"
   ]
  },
  {
   "cell_type": "markdown",
   "metadata": {},
   "source": [
    "print sheet names"
   ]
  },
  {
   "cell_type": "code",
   "execution_count": 5,
   "metadata": {},
   "outputs": [
    {
     "name": "stdout",
     "output_type": "stream",
     "text": [
      "['tTest-1SMwoSD-1', 'tTest-1SMwoSD-2', 'tTest-Ind2SM-1', 'tTest-Ind2SM-2', 'tTest-Dep2SM-1', 'tTest-Dep2SM-2', 'Chi-Sq-GoF-1', 'Chi-Sq-GoF-2', 'Chi-Sq-ToI-1', 'Chi-Sq-ToI-2', 'Anova-1Factor-1', 'Anova-1Factor-2', 'Anova-1Factor-P1']\n"
     ]
    }
   ],
   "source": [
    "print(xls.sheet_names)"
   ]
  },
  {
   "cell_type": "markdown",
   "metadata": {},
   "source": [
    "load a sheet into a dataFrame by name"
   ]
  },
  {
   "cell_type": "code",
   "execution_count": 6,
   "metadata": {},
   "outputs": [],
   "source": [
    "df = xls.parse('tTest-Ind2SM-2')"
   ]
  },
  {
   "cell_type": "markdown",
   "metadata": {},
   "source": [
    "print df"
   ]
  },
  {
   "cell_type": "code",
   "execution_count": 7,
   "metadata": {},
   "outputs": [
    {
     "name": "stdout",
     "output_type": "stream",
     "text": [
      "[3.24 4.52 3.09 3.85 3.62 3.75 4.27 3.28 4.89 4.9  4.01 4.39 3.14 3.98\n",
      " 3.16 3.04 3.24 4.2  4.47 3.85]\n",
      "[3.04 3.56 3.89 3.25 3.17 3.94 3.75 4.21 4.55 4.22 4.45 3.34 3.5  3.4\n",
      " 4.94 4.    nan  nan  nan  nan]\n"
     ]
    }
   ],
   "source": [
    "colNames = df.columns.tolist()\n",
    "for colName in colNames:\n",
    "    print(df[colName].values.flatten())"
   ]
  },
  {
   "cell_type": "markdown",
   "metadata": {},
   "source": [
    "############################################################<br>\n",
    "Hypothesis Test<br>\n",
    "############################################################"
   ]
  },
  {
   "cell_type": "markdown",
   "metadata": {},
   "source": [
    "Problem: Are GPA scores of male students same as female students\t\t\t\t\t"
   ]
  },
  {
   "cell_type": "markdown",
   "metadata": {},
   "source": [
    "\t0.05<br>\n",
    "o\tm-fs - m-ms = 0<br>\n",
    "a\tm-fs - m-ms != 0<br>\n",
    "ail Type\tTwo<br>\n",
    "est: Ind Two Sample Mean"
   ]
  },
  {
   "cell_type": "markdown",
   "metadata": {},
   "source": [
    "null hyp"
   ]
  },
  {
   "cell_type": "code",
   "execution_count": 8,
   "metadata": {},
   "outputs": [],
   "source": [
    "Ho = \"m-fs - m-ms = 0\"\n",
    "# alt hyp\n",
    "Ha = \"m-fs - m-ms !- 0\"\n",
    "# alpha\n",
    "al = 0.05\n",
    "# mu - mean\n",
    "#mu = 66\n",
    "# tail type\n",
    "tt = 2\n",
    "# data\n",
    "d_fs = df['Female'].values\n",
    "d_ms = df['Male'].values\n",
    "d_fs = d_fs[~np.isnan(d_fs)]\n",
    "d_ms = d_ms[~np.isnan(d_ms)]"
   ]
  },
  {
   "cell_type": "markdown",
   "metadata": {},
   "source": [
    "print"
   ]
  },
  {
   "cell_type": "code",
   "execution_count": 9,
   "metadata": {},
   "outputs": [
    {
     "name": "stdout",
     "output_type": "stream",
     "text": [
      "Ho: m-fs - m-ms = 0\n",
      "Ha: m-fs - m-ms !- 0\n",
      "al: 0.05\n",
      "[3.24 4.52 3.09 3.85 3.62 3.75 4.27 3.28 4.89 4.9  4.01 4.39 3.14 3.98\n",
      " 3.16 3.04 3.24 4.2  4.47 3.85]\n",
      "[3.04 3.56 3.89 3.25 3.17 3.94 3.75 4.21 4.55 4.22 4.45 3.34 3.5  3.4\n",
      " 4.94 4.  ]\n",
      "\n",
      "t-stat 0.09684254321390112\n",
      "p-vals 0.9234200514271381\n",
      "1t pv 1.8468401028542762\n",
      "2t pv 0.9234200514271381\n"
     ]
    }
   ],
   "source": [
    "print(\"Ho:\", Ho)\n",
    "print(\"Ha:\", Ha)\n",
    "print(\"al:\", al)\n",
    "#print(\"mu:\", mu)\n",
    "print(d_fs)\n",
    "print(d_ms)\n",
    "print(\"\")\n",
    "ts, pv = ttest_ind(d_fs, d_ms)\n",
    "print(\"t-stat\",ts)\n",
    "print(\"p-vals\",pv)\n",
    "t2pv = pv\n",
    "t1pv = pv*2\n",
    "print(\"1t pv\",t1pv)\n",
    "print(\"2t pv\",t2pv)"
   ]
  },
  {
   "cell_type": "code",
   "execution_count": 10,
   "metadata": {},
   "outputs": [
    {
     "name": "stdout",
     "output_type": "stream",
     "text": [
      "Null Hypothesis: Not Rejected\n",
      "Conclusion: m-fs - m-ms = 0\n"
     ]
    }
   ],
   "source": [
    "if tt == 1:\n",
    "    if t1pv < al:\n",
    "        print(\"Null Hypothesis: Rejected\")\n",
    "        print(\"Conclusion:\",Ha)\n",
    "    else:\n",
    "        print(\"Null Hypothesis: Not Rejected\")\n",
    "        print(\"Conclusion:\",Ho)\n",
    "else:\n",
    "    if t2pv < al/2:\n",
    "        print(\"Null Hypothesis: Rejected\")\n",
    "        print(\"Conclusion:\",Ha)\n",
    "    else:\n",
    "        print(\"Null Hypothesis: Not Rejected\")\n",
    "        print(\"Conclusion:\",Ho)"
   ]
  },
  {
   "cell_type": "code",
   "execution_count": null,
   "metadata": {},
   "outputs": [],
   "source": []
  },
  {
   "cell_type": "code",
   "execution_count": null,
   "metadata": {},
   "outputs": [],
   "source": []
  }
 ],
 "metadata": {
  "kernelspec": {
   "display_name": "Python 3",
   "language": "python",
   "name": "python3"
  },
  "language_info": {
   "codemirror_mode": {
    "name": "ipython",
    "version": 3
   },
   "file_extension": ".py",
   "mimetype": "text/x-python",
   "name": "python",
   "nbconvert_exporter": "python",
   "pygments_lexer": "ipython3",
   "version": "3.8.5"
  }
 },
 "nbformat": 4,
 "nbformat_minor": 2
}
