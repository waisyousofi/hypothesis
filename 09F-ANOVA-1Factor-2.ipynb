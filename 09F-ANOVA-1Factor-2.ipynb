{
 "cells": [
  {
   "cell_type": "code",
   "execution_count": 1,
   "metadata": {},
   "outputs": [
    {
     "data": {
      "text/plain": [
       "'\\n@filename: ttest\\n@dataset: ttest\\n@author: waisullah yousofi\\n'"
      ]
     },
     "execution_count": 1,
     "metadata": {},
     "output_type": "execute_result"
    }
   ],
   "source": [
    "\"\"\"\n",
    "@filename: ttest\n",
    "@dataset: ttest\n",
    "@author: waisullah yousofi\n",
    "\"\"\""
   ]
  },
  {
   "cell_type": "markdown",
   "metadata": {},
   "source": [
    "hides all warnings"
   ]
  },
  {
   "cell_type": "code",
   "execution_count": 2,
   "metadata": {},
   "outputs": [],
   "source": [
    "import warnings\n",
    "warnings.filterwarnings('ignore')\n",
    "# pandas \n",
    "import pandas as pd\n",
    "# numpy\n",
    "import numpy as np\n",
    "# stats\n",
    "# https://docs.scipy.org/doc/scipy/reference/generated/scipy.stats.f_oneway.html\n",
    "from scipy.stats import f_oneway"
   ]
  },
  {
   "cell_type": "markdown",
   "metadata": {},
   "source": [
    "############################################################<br>\n",
    "Read Data <br>\n",
    "############################################################"
   ]
  },
  {
   "cell_type": "markdown",
   "metadata": {},
   "source": [
    "assign spreadsheet filename: file"
   ]
  },
  {
   "cell_type": "code",
   "execution_count": 3,
   "metadata": {},
   "outputs": [],
   "source": [
    "file = '..\\dataset/ttest-data.xlsx'"
   ]
  },
  {
   "cell_type": "markdown",
   "metadata": {},
   "source": [
    "load spreadsheet xls"
   ]
  },
  {
   "cell_type": "code",
   "execution_count": 4,
   "metadata": {},
   "outputs": [],
   "source": [
    "xls = pd.ExcelFile(file)"
   ]
  },
  {
   "cell_type": "markdown",
   "metadata": {},
   "source": [
    "print sheet names"
   ]
  },
  {
   "cell_type": "code",
   "execution_count": 5,
   "metadata": {},
   "outputs": [
    {
     "name": "stdout",
     "output_type": "stream",
     "text": [
      "['tTest-1SMwoSD-1', 'tTest-1SMwoSD-2', 'tTest-Ind2SM-1', 'tTest-Ind2SM-2', 'tTest-Dep2SM-1', 'tTest-Dep2SM-2', 'Chi-Sq-GoF-1', 'Chi-Sq-GoF-2', 'Chi-Sq-ToI-1', 'Chi-Sq-ToI-2', 'Anova-1Factor-1', 'Anova-1Factor-2', 'Anova-1Factor-P1']\n"
     ]
    }
   ],
   "source": [
    "print(xls.sheet_names)"
   ]
  },
  {
   "cell_type": "markdown",
   "metadata": {},
   "source": [
    "load a sheet into a dataFrame by name"
   ]
  },
  {
   "cell_type": "code",
   "execution_count": 6,
   "metadata": {},
   "outputs": [],
   "source": [
    "df = xls.parse('Anova-1Factor-2')"
   ]
  },
  {
   "cell_type": "markdown",
   "metadata": {},
   "source": [
    "print df"
   ]
  },
  {
   "cell_type": "code",
   "execution_count": 7,
   "metadata": {},
   "outputs": [
    {
     "name": "stdout",
     "output_type": "stream",
     "text": [
      "[60. 60. 62. 61. 62. 63. 57. 60. nan]\n",
      "[69. 64. 58. 64. 64. 65. 66. nan nan]\n",
      "[54 55 55 53 60 61 59 58 62]\n"
     ]
    }
   ],
   "source": [
    "colNames = df.columns.tolist()\n",
    "for colName in colNames:\n",
    "    print(df[colName].values.flatten())"
   ]
  },
  {
   "cell_type": "markdown",
   "metadata": {},
   "source": [
    "############################################################<br>\n",
    "ANOVA Test<br>\n",
    "############################################################"
   ]
  },
  {
   "cell_type": "markdown",
   "metadata": {},
   "source": [
    "Title Chi-Square Godness Of Fit\t<br>\n",
    "Problem\tMean of the marks obtained students (not same) of three subjects are same / similar"
   ]
  },
  {
   "cell_type": "markdown",
   "metadata": {},
   "source": [
    "alpha\t0.05<br>\n",
    "Ho\tÎ¼1 = Î¼2 = Î¼3<br>\n",
    "Ha\tat least one of the means is different<br>\n",
    "Test\tAnnova: Single Factor"
   ]
  },
  {
   "cell_type": "markdown",
   "metadata": {},
   "source": [
    "null hyp"
   ]
  },
  {
   "cell_type": "code",
   "execution_count": 8,
   "metadata": {},
   "outputs": [],
   "source": [
    "Ho = \"Î¼1 = Î¼2 = Î¼3\"\n",
    "# alt hyp\n",
    "Ha = \"at least one of the means is different\"\n",
    "# alpha\n",
    "al = 0.05"
   ]
  },
  {
   "cell_type": "markdown",
   "metadata": {},
   "source": [
    "print"
   ]
  },
  {
   "cell_type": "code",
   "execution_count": 9,
   "metadata": {},
   "outputs": [
    {
     "name": "stdout",
     "output_type": "stream",
     "text": [
      "Ho: Î¼1 = Î¼2 = Î¼3\n",
      "Ha: at least one of the means is different\n",
      "al: 0.05\n",
      "Economics\n",
      "[60. 60. 62. 61. 62. 63. 57. 60.]\n",
      "60.625\n",
      "Maths\n",
      "[69. 64. 58. 64. 64. 65. 66.]\n",
      "64.28571428571429\n",
      "Stats\n",
      "[54 55 55 53 60 61 59 58 62]\n",
      "57.44444444444444\n",
      "\n",
      "result F_onewayResult(statistic=11.035296444921718, pvalue=0.0005301559850885425)\n",
      "a-stat 11.035296444921718\n",
      "p-vals 0.0005301559850885425\n"
     ]
    }
   ],
   "source": [
    "print(\"Ho:\", Ho)\n",
    "print(\"Ha:\", Ha)\n",
    "print(\"al:\", al)\n",
    "# data\n",
    "colNames = df.columns.tolist()\n",
    "data = []\n",
    "for i, colName in enumerate(colNames):\n",
    "    #print(i)\n",
    "    print(colName)\n",
    "    colVals = df[colName].values.flatten()\n",
    "    colVals = colVals[~np.isnan(colVals)]\n",
    "    data.append(colVals)\n",
    "    print(colVals)  \n",
    "    print(colVals.mean())          \n",
    "print(\"\")\n",
    "rs=f_oneway(data[0],data[1],data[2])\n",
    "av = rs[0]\n",
    "pv = rs[1]\n",
    "print(\"result\",rs)\n",
    "print(\"a-stat\",av)\n",
    "print(\"p-vals\",pv)"
   ]
  },
  {
   "cell_type": "code",
   "execution_count": null,
   "metadata": {},
   "outputs": [],
   "source": []
  },
  {
   "cell_type": "code",
   "execution_count": null,
   "metadata": {},
   "outputs": [],
   "source": []
  }
 ],
 "metadata": {
  "kernelspec": {
   "display_name": "Python 3",
   "language": "python",
   "name": "python3"
  },
  "language_info": {
   "codemirror_mode": {
    "name": "ipython",
    "version": 3
   },
   "file_extension": ".py",
   "mimetype": "text/x-python",
   "name": "python",
   "nbconvert_exporter": "python",
   "pygments_lexer": "ipython3",
   "version": "3.8.5"
  }
 },
 "nbformat": 4,
 "nbformat_minor": 2
}
