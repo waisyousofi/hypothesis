{
 "cells": [
  {
   "cell_type": "code",
   "execution_count": 14,
   "metadata": {},
   "outputs": [
    {
     "data": {
      "text/plain": [
       "'\\n@filename: ttest\\n@dataset: ttest\\n@author: waisullah yousofi\\n'"
      ]
     },
     "execution_count": 14,
     "metadata": {},
     "output_type": "execute_result"
    }
   ],
   "source": [
    "\"\"\"\n",
    "@filename: ttest\n",
    "@dataset: ttest\n",
    "@author: waisullah yousofi\n",
    "\"\"\""
   ]
  },
  {
   "cell_type": "markdown",
   "metadata": {},
   "source": [
    "hides all warnings"
   ]
  },
  {
   "cell_type": "code",
   "execution_count": 15,
   "metadata": {},
   "outputs": [],
   "source": [
    "import warnings\n",
    "warnings.filterwarnings('ignore')\n",
    "# pandas \n",
    "import pandas as pd\n",
    "# numpy\n",
    "import numpy as np\n",
    "# stats\n",
    "# https://docs.scipy.org/doc/scipy/reference/generated/scipy.stats.ttest_rel.html\n",
    "from scipy.stats import ttest_rel"
   ]
  },
  {
   "cell_type": "markdown",
   "metadata": {},
   "source": [
    "############################################################<br>\n",
    "Read Data <br>\n",
    "############################################################"
   ]
  },
  {
   "cell_type": "markdown",
   "metadata": {},
   "source": [
    "assign spreadsheet filename: file"
   ]
  },
  {
   "cell_type": "code",
   "execution_count": 16,
   "metadata": {},
   "outputs": [],
   "source": [
    "file = '..\\dataset/ttest-data.xlsx'"
   ]
  },
  {
   "cell_type": "markdown",
   "metadata": {},
   "source": [
    "load spreadsheet xls"
   ]
  },
  {
   "cell_type": "code",
   "execution_count": 17,
   "metadata": {},
   "outputs": [],
   "source": [
    "xls = pd.ExcelFile(file)"
   ]
  },
  {
   "cell_type": "markdown",
   "metadata": {},
   "source": [
    "print sheet names"
   ]
  },
  {
   "cell_type": "code",
   "execution_count": 18,
   "metadata": {},
   "outputs": [
    {
     "name": "stdout",
     "output_type": "stream",
     "text": [
      "['tTest-1SMwoSD-1', 'tTest-1SMwoSD-2', 'tTest-Ind2SM-1', 'tTest-Ind2SM-2', 'tTest-Dep2SM-1', 'tTest-Dep2SM-2', 'Chi-Sq-GoF-1', 'Chi-Sq-GoF-2', 'Chi-Sq-ToI-1', 'Chi-Sq-ToI-2', 'Anova-1Factor-1', 'Anova-1Factor-2', 'Anova-1Factor-P1']\n"
     ]
    }
   ],
   "source": [
    "print(xls.sheet_names)"
   ]
  },
  {
   "cell_type": "markdown",
   "metadata": {},
   "source": [
    "load a sheet into a dataFrame by name"
   ]
  },
  {
   "cell_type": "code",
   "execution_count": 21,
   "metadata": {},
   "outputs": [
    {
     "data": {
      "text/html": [
       "<div>\n",
       "<style scoped>\n",
       "    .dataframe tbody tr th:only-of-type {\n",
       "        vertical-align: middle;\n",
       "    }\n",
       "\n",
       "    .dataframe tbody tr th {\n",
       "        vertical-align: top;\n",
       "    }\n",
       "\n",
       "    .dataframe thead th {\n",
       "        text-align: right;\n",
       "    }\n",
       "</style>\n",
       "<table border=\"1\" class=\"dataframe\">\n",
       "  <thead>\n",
       "    <tr style=\"text-align: right;\">\n",
       "      <th></th>\n",
       "      <th>Product</th>\n",
       "      <th>Pune</th>\n",
       "      <th>Mumbai</th>\n",
       "    </tr>\n",
       "  </thead>\n",
       "  <tbody>\n",
       "    <tr>\n",
       "      <th>0</th>\n",
       "      <td>A</td>\n",
       "      <td>710</td>\n",
       "      <td>790</td>\n",
       "    </tr>\n",
       "    <tr>\n",
       "      <th>1</th>\n",
       "      <td>B</td>\n",
       "      <td>900</td>\n",
       "      <td>1010</td>\n",
       "    </tr>\n",
       "    <tr>\n",
       "      <th>2</th>\n",
       "      <td>C</td>\n",
       "      <td>1100</td>\n",
       "      <td>1220</td>\n",
       "    </tr>\n",
       "    <tr>\n",
       "      <th>3</th>\n",
       "      <td>D</td>\n",
       "      <td>890</td>\n",
       "      <td>880</td>\n",
       "    </tr>\n",
       "    <tr>\n",
       "      <th>4</th>\n",
       "      <td>E</td>\n",
       "      <td>990</td>\n",
       "      <td>1040</td>\n",
       "    </tr>\n",
       "    <tr>\n",
       "      <th>5</th>\n",
       "      <td>F</td>\n",
       "      <td>910</td>\n",
       "      <td>900</td>\n",
       "    </tr>\n",
       "    <tr>\n",
       "      <th>6</th>\n",
       "      <td>G</td>\n",
       "      <td>1030</td>\n",
       "      <td>1170</td>\n",
       "    </tr>\n",
       "    <tr>\n",
       "      <th>7</th>\n",
       "      <td>H</td>\n",
       "      <td>800</td>\n",
       "      <td>820</td>\n",
       "    </tr>\n",
       "    <tr>\n",
       "      <th>8</th>\n",
       "      <td>I</td>\n",
       "      <td>900</td>\n",
       "      <td>990</td>\n",
       "    </tr>\n",
       "    <tr>\n",
       "      <th>9</th>\n",
       "      <td>J</td>\n",
       "      <td>600</td>\n",
       "      <td>650</td>\n",
       "    </tr>\n",
       "  </tbody>\n",
       "</table>\n",
       "</div>"
      ],
      "text/plain": [
       "  Product  Pune  Mumbai\n",
       "0       A   710     790\n",
       "1       B   900    1010\n",
       "2       C  1100    1220\n",
       "3       D   890     880\n",
       "4       E   990    1040\n",
       "5       F   910     900\n",
       "6       G  1030    1170\n",
       "7       H   800     820\n",
       "8       I   900     990\n",
       "9       J   600     650"
      ]
     },
     "execution_count": 21,
     "metadata": {},
     "output_type": "execute_result"
    }
   ],
   "source": [
    "df = xls.parse('tTest-Dep2SM-1')\n",
    "df"
   ]
  },
  {
   "cell_type": "markdown",
   "metadata": {},
   "source": [
    "print df"
   ]
  },
  {
   "cell_type": "code",
   "execution_count": 22,
   "metadata": {},
   "outputs": [
    {
     "name": "stdout",
     "output_type": "stream",
     "text": [
      "['A' 'B' 'C' 'D' 'E' 'F' 'G' 'H' 'I' 'J']\n",
      "[ 710  900 1100  890  990  910 1030  800  900  600]\n",
      "[ 790 1010 1220  880 1040  900 1170  820  990  650]\n"
     ]
    }
   ],
   "source": [
    "colNames = df.columns.tolist()\n",
    "for colName in colNames:\n",
    "    print(df[colName].values.flatten())"
   ]
  },
  {
   "cell_type": "markdown",
   "metadata": {},
   "source": [
    "############################################################<br>\n",
    "Hypothesis Test<br>\n",
    "############################################################"
   ]
  },
  {
   "cell_type": "markdown",
   "metadata": {},
   "source": [
    "Problem\tPrices of given products in two given cities is same\t\t\t\t"
   ]
  },
  {
   "cell_type": "markdown",
   "metadata": {},
   "source": [
    " 0.05<br>\n",
    "-mu - m-pu = 0<br>\n",
    "-mu - m-pu != 0<br>\n",
    "woTailed<br>\n",
    "est: Dep Two Sample Mean"
   ]
  },
  {
   "cell_type": "markdown",
   "metadata": {},
   "source": [
    "null hyp"
   ]
  },
  {
   "cell_type": "code",
   "execution_count": 23,
   "metadata": {},
   "outputs": [],
   "source": [
    "Ho = \"m-mu - m-pu = 0\"\n",
    "# alt hyp\n",
    "Ha = \"m-mu - m-pu != 0\"\n",
    "# alpha\n",
    "al = 0.05\n",
    "# tail type\n",
    "tt = 2\n",
    "# data\n",
    "d_mu = df['Mumbai'].values\n",
    "d_pu = df['Pune'].values\n",
    "d_mu = d_mu[~np.isnan(d_mu)]\n",
    "d_pu = d_pu[~np.isnan(d_pu)]"
   ]
  },
  {
   "cell_type": "markdown",
   "metadata": {},
   "source": [
    "print"
   ]
  },
  {
   "cell_type": "code",
   "execution_count": 24,
   "metadata": {},
   "outputs": [
    {
     "name": "stdout",
     "output_type": "stream",
     "text": [
      "Ho: m-mu - m-pu = 0\n",
      "Ha: m-mu - m-pu != 0\n",
      "al: 0.05\n",
      "\n",
      "[ 790 1010 1220  880 1040  900 1170  820  990  650]\n",
      "[ 710  900 1100  890  990  910 1030  800  900  600]\n",
      "\n"
     ]
    }
   ],
   "source": [
    "print(\"Ho:\", Ho)\n",
    "print(\"Ha:\", Ha)\n",
    "print(\"al:\", al)\n",
    "#print(\"mu:\", mu)\n",
    "print()\n",
    "print(d_mu)\n",
    "print(d_pu)\n",
    "print(\"\")"
   ]
  },
  {
   "cell_type": "code",
   "execution_count": 25,
   "metadata": {},
   "outputs": [
    {
     "name": "stdout",
     "output_type": "stream",
     "text": [
      "t-stat 3.821699657558558\n",
      "p-vals 0.004079274360829899\n",
      "1t pv 0.008158548721659798\n",
      "2t pv 0.004079274360829899\n"
     ]
    }
   ],
   "source": [
    "ts, pv = ttest_rel(d_mu, d_pu)\n",
    "print(\"t-stat\",ts)\n",
    "print(\"p-vals\",pv)\n",
    "t2pv = pv\n",
    "t1pv = pv*2\n",
    "print(\"1t pv\",t1pv)\n",
    "print(\"2t pv\",t2pv)"
   ]
  },
  {
   "cell_type": "code",
   "execution_count": 26,
   "metadata": {},
   "outputs": [
    {
     "name": "stdout",
     "output_type": "stream",
     "text": [
      "Null Hypothesis: Rejected\n",
      "Conclusion: m-mu - m-pu != 0\n"
     ]
    }
   ],
   "source": [
    "if tt == 1:\n",
    "    if t1pv < al:\n",
    "        print(\"Null Hypothesis: Rejected\")\n",
    "        print(\"Conclusion:\",Ha)\n",
    "    else:\n",
    "        print(\"Null Hypothesis: Not Rejected\")\n",
    "        print(\"Conclusion:\",Ho)\n",
    "else:\n",
    "    if t2pv < al/2:\n",
    "        print(\"Null Hypothesis: Rejected\")\n",
    "        print(\"Conclusion:\",Ha)\n",
    "    else:\n",
    "        print(\"Null Hypothesis: Not Rejected\")\n",
    "        print(\"Conclusion:\",Ho)"
   ]
  },
  {
   "cell_type": "markdown",
   "metadata": {},
   "source": [
    "############################################################"
   ]
  },
  {
   "cell_type": "markdown",
   "metadata": {},
   "source": [
    "Problem\tPrices of given products in two given cities is same\t\t\t\t"
   ]
  },
  {
   "cell_type": "markdown",
   "metadata": {},
   "source": [
    " 0.05<br>\n",
    "-mu - m-nm = 0<br>\n",
    "-mu - m-nm <> 0<br>\n",
    "woTailed<br>\n",
    "est: Dep Two Sample Mean"
   ]
  },
  {
   "cell_type": "code",
   "execution_count": null,
   "metadata": {},
   "outputs": [],
   "source": []
  },
  {
   "cell_type": "markdown",
   "metadata": {},
   "source": [
    "null hyp"
   ]
  },
  {
   "cell_type": "code",
   "execution_count": 37,
   "metadata": {},
   "outputs": [
    {
     "name": "stdout",
     "output_type": "stream",
     "text": [
      "Ho: m-mu - m-nm = 0\n",
      "Ha: m-mu - m-nm != 0\n",
      "al: 0.05\n",
      "\n",
      "[ 790 1010 1220  880 1040  900 1170  820  990  650]\n",
      "[ 790 1010 1220  880 1040  900 1170  820  990  650]\n",
      "\n"
     ]
    }
   ],
   "source": [
    "Ho = \"m-mu - m-nm = 0\"\n",
    "# alt hyp\n",
    "Ha = \"m-mu - m-nm != 0\"\n",
    "# alpha\n",
    "al = 0.05\n",
    "# mu - mean\n",
    "#mu = 66\n",
    "# tail type\n",
    "tt = 2\n",
    "# data\n",
    "d_mu = df['Mumbai'].values\n",
    "d_nm = df['Mumbai'].values\n",
    "d_mu = d_mu[~np.isnan(d_mu)]\n",
    "d_nm = d_nm[~np.isnan(d_nm)]\n",
    "# print\n",
    "print(\"Ho:\", Ho)\n",
    "print(\"Ha:\", Ha)\n",
    "print(\"al:\", al)\n",
    "#print(\"mu:\", mu)\n",
    "print()\n",
    "print(d_mu)\n",
    "print(d_nm)\n",
    "print(\"\")"
   ]
  },
  {
   "cell_type": "code",
   "execution_count": 38,
   "metadata": {},
   "outputs": [
    {
     "name": "stdout",
     "output_type": "stream",
     "text": [
      "t-stat nan\n",
      "p-vals nan\n",
      "1t pv nan\n",
      "2t pv nan\n"
     ]
    }
   ],
   "source": [
    "ts, pv = ttest_rel(d_mu, d_nm)\n",
    "print(\"t-stat\",ts)\n",
    "print(\"p-vals\",pv)\n",
    "t2pv = pv\n",
    "t1pv = pv*2\n",
    "print(\"1t pv\",t1pv)\n",
    "print(\"2t pv\",t2pv)"
   ]
  },
  {
   "cell_type": "code",
   "execution_count": null,
   "metadata": {},
   "outputs": [],
   "source": []
  },
  {
   "cell_type": "code",
   "execution_count": null,
   "metadata": {},
   "outputs": [],
   "source": []
  }
 ],
 "metadata": {
  "kernelspec": {
   "display_name": "Python 3",
   "language": "python",
   "name": "python3"
  },
  "language_info": {
   "codemirror_mode": {
    "name": "ipython",
    "version": 3
   },
   "file_extension": ".py",
   "mimetype": "text/x-python",
   "name": "python",
   "nbconvert_exporter": "python",
   "pygments_lexer": "ipython3",
   "version": "3.8.5"
  }
 },
 "nbformat": 4,
 "nbformat_minor": 2
}
