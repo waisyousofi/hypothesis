{
 "cells": [
  {
   "cell_type": "code",
   "execution_count": 1,
   "metadata": {},
   "outputs": [
    {
     "data": {
      "text/plain": [
       "'\\n@filename: ttest\\n@dataset: ttest\\n@author: waisullah yousofi\\n'"
      ]
     },
     "execution_count": 1,
     "metadata": {},
     "output_type": "execute_result"
    }
   ],
   "source": [
    "\"\"\"\n",
    "@filename: ttest\n",
    "@dataset: ttest\n",
    "@author: waisullah yousofi\n",
    "\"\"\""
   ]
  },
  {
   "cell_type": "markdown",
   "metadata": {},
   "source": [
    "hides all warnings"
   ]
  },
  {
   "cell_type": "code",
   "execution_count": 2,
   "metadata": {},
   "outputs": [],
   "source": [
    "import warnings\n",
    "warnings.filterwarnings('ignore')\n",
    "# pandas \n",
    "import pandas as pd\n",
    "# numpy\n",
    "import numpy as np\n",
    "# stats\n",
    "# https://docs.scipy.org/doc/scipy/reference/generated/scipy.stats.chisquare.html\n",
    "from scipy.stats import chisquare"
   ]
  },
  {
   "cell_type": "markdown",
   "metadata": {},
   "source": [
    "############################################################<br>\n",
    "Read Data <br>\n",
    "############################################################"
   ]
  },
  {
   "cell_type": "markdown",
   "metadata": {},
   "source": [
    "assign spreadsheet filename: file"
   ]
  },
  {
   "cell_type": "code",
   "execution_count": 3,
   "metadata": {},
   "outputs": [],
   "source": [
    "file = '..\\dataset/ttest-data.xlsx'"
   ]
  },
  {
   "cell_type": "markdown",
   "metadata": {},
   "source": [
    "load spreadsheet xls"
   ]
  },
  {
   "cell_type": "code",
   "execution_count": 4,
   "metadata": {},
   "outputs": [],
   "source": [
    "xls = pd.ExcelFile(file)"
   ]
  },
  {
   "cell_type": "markdown",
   "metadata": {},
   "source": [
    "print sheet names"
   ]
  },
  {
   "cell_type": "code",
   "execution_count": 5,
   "metadata": {},
   "outputs": [
    {
     "name": "stdout",
     "output_type": "stream",
     "text": [
      "['tTest-1SMwoSD-1', 'tTest-1SMwoSD-2', 'tTest-Ind2SM-1', 'tTest-Ind2SM-2', 'tTest-Dep2SM-1', 'tTest-Dep2SM-2', 'Chi-Sq-GoF-1', 'Chi-Sq-GoF-2', 'Chi-Sq-ToI-1', 'Chi-Sq-ToI-2', 'Anova-1Factor-1', 'Anova-1Factor-2', 'Anova-1Factor-P1']\n"
     ]
    }
   ],
   "source": [
    "print(xls.sheet_names)"
   ]
  },
  {
   "cell_type": "markdown",
   "metadata": {},
   "source": [
    "load a sheet into a dataFrame by name"
   ]
  },
  {
   "cell_type": "code",
   "execution_count": 6,
   "metadata": {},
   "outputs": [],
   "source": [
    "df = xls.parse('Chi-Sq-GoF-1')"
   ]
  },
  {
   "cell_type": "markdown",
   "metadata": {},
   "source": [
    "print df"
   ]
  },
  {
   "cell_type": "code",
   "execution_count": 7,
   "metadata": {},
   "outputs": [
    {
     "name": "stdout",
     "output_type": "stream",
     "text": [
      "      Catgegory  ActCount  ExpRatio\n",
      "0  ROUND YELLOW       126         9\n",
      "1  ROUND Yellow        25         3\n",
      "2  round YELLOW        21         3\n",
      "3  round yellow         8         1\n"
     ]
    }
   ],
   "source": [
    "print(df)"
   ]
  },
  {
   "cell_type": "markdown",
   "metadata": {},
   "source": [
    "############################################################<br>\n",
    "Hypothesis Test<br>\n",
    "############################################################"
   ]
  },
  {
   "cell_type": "markdown",
   "metadata": {},
   "source": [
    "Title Chi-Square Godness Of Fit\t<br>\n",
    "Problem: Check if the that the categorical data has the given frequencies."
   ]
  },
  {
   "cell_type": "markdown",
   "metadata": {},
   "source": [
    "alpha\t0.05<br>\n",
    "Ho\tCounts for Sample Given is in 9:3:3:1 ratio<br>\n",
    "Ha\tCounts for Sample Given is NOT in 9:3:3:1 ratio<br>\n",
    "Test\tChi-Square Test Godness Of Fit\t"
   ]
  },
  {
   "cell_type": "markdown",
   "metadata": {},
   "source": [
    "null hyp"
   ]
  },
  {
   "cell_type": "code",
   "execution_count": 8,
   "metadata": {},
   "outputs": [
    {
     "name": "stdout",
     "output_type": "stream",
     "text": [
      "Ho: Counts for Sample Given is in 9:3:3:1 ratio\n",
      "Ha: Counts for Sample Given is NOT in 9:3:3:1 ratio\n",
      "al: 0.05\n",
      "ActCount: [126  25  21   8]\n",
      "ExpRatio: [9 3 3 1]\n",
      "ExpCount: [101.25  33.75  33.75  11.25]\n",
      "\n",
      "cs-stat 14.074074074074073\n",
      "p-value 0.002806039615813819\n"
     ]
    }
   ],
   "source": [
    "Ho = \"Counts for Sample Given is in 9:3:3:1 ratio\"\n",
    "# alt hyp\n",
    "Ha = \"Counts for Sample Given is NOT in 9:3:3:1 ratio\"\n",
    "# alpha\n",
    "al = 0.05\n",
    "# data\n",
    "d_ac = df['ActCount'].values\n",
    "d_er = df['ExpRatio'].values\n",
    "d_ec = (d_er/sum(d_er))*sum(d_ac)\n",
    "# print\n",
    "print(\"Ho:\", Ho)\n",
    "print(\"Ha:\", Ha)\n",
    "print(\"al:\", al)\n",
    "print(\"ActCount:\", d_ac)\n",
    "print(\"ExpRatio:\", d_er)\n",
    "print(\"ExpCount:\", d_ec)\n",
    "print(\"\")\n",
    "cs, pv = chisquare(d_ac, d_ec)\n",
    "print(\"cs-stat\",cs)\n",
    "print(\"p-value\",pv)"
   ]
  },
  {
   "cell_type": "code",
   "execution_count": null,
   "metadata": {},
   "outputs": [],
   "source": []
  },
  {
   "cell_type": "code",
   "execution_count": null,
   "metadata": {},
   "outputs": [],
   "source": []
  },
  {
   "cell_type": "code",
   "execution_count": null,
   "metadata": {},
   "outputs": [],
   "source": []
  }
 ],
 "metadata": {
  "kernelspec": {
   "display_name": "Python 3",
   "language": "python",
   "name": "python3"
  },
  "language_info": {
   "codemirror_mode": {
    "name": "ipython",
    "version": 3
   },
   "file_extension": ".py",
   "mimetype": "text/x-python",
   "name": "python",
   "nbconvert_exporter": "python",
   "pygments_lexer": "ipython3",
   "version": "3.8.5"
  }
 },
 "nbformat": 4,
 "nbformat_minor": 2
}
